{
 "cells": [
  {
   "cell_type": "code",
   "execution_count": 1,
   "id": "87ed8019",
   "metadata": {},
   "outputs": [
    {
     "name": "stdout",
     "output_type": "stream",
     "text": [
      "2.6.0 2.6.0\n"
     ]
    }
   ],
   "source": [
    "import tensorflow as tf\n",
    "from tensorflow import keras\n",
    "print(tf.__version__, keras.__version__)"
   ]
  },
  {
   "cell_type": "code",
   "execution_count": 2,
   "id": "f7ea5e04",
   "metadata": {},
   "outputs": [],
   "source": [
    "import pandas as pd\n",
    "import numpy as np\n",
    "import os\n",
    "from mat4py import loadmat, savemat"
   ]
  },
  {
   "cell_type": "code",
   "execution_count": 3,
   "id": "060c40b3",
   "metadata": {},
   "outputs": [],
   "source": [
    "# raw data paths\n",
    "raw_base = os.path.normpath(\"D:\\Data Division\\Raw Data\")\n",
    "eo_adhd = os.path.join(raw_base, 'Eyes-open', 'ADHD')\n",
    "ec_adhd = os.path.join(raw_base, 'Eyes-closed', 'ADHD')\n",
    "eo_cont = os.path.join(raw_base, 'Eyes-open', 'Control')\n",
    "ec_cont = os.path.join(raw_base, 'Eyes-closed', 'Control')\n",
    "\n",
    "# channel locations path\n",
    "locs_path = os.path.normpath(\"D:\\Data Division\\Standard-10-20-Cap19.locs\")\n",
    "\n",
    "# processed data paths\n",
    "proc_base = os.path.normpath(\"D:\\MatLab\\\\toolbox\\eeglab2021.0\\eeglab2021.0\\data_for_processing\\EEG_DATA\")\n",
    "# ADJUST\n",
    "adj_base = os.path.join(proc_base, \"Adjust\")\n",
    "adj_eo_adhd = os.path.join(adj_base, 'ADHD_EO')\n",
    "adj_ec_adhd = os.path.join(adj_base, 'ADHD_EC')\n",
    "adj_eo_cont = os.path.join(adj_base, 'CONTROL_EO')\n",
    "adj_ec_cont = os.path.join(adj_base, 'CONTROL_EC')"
   ]
  },
  {
   "cell_type": "code",
   "execution_count": 4,
   "id": "9e91ea00",
   "metadata": {},
   "outputs": [
    {
     "data": {
      "text/plain": [
       "['Fp1',\n",
       " 'Fp2',\n",
       " 'F7',\n",
       " 'F3',\n",
       " 'Fz',\n",
       " 'F4',\n",
       " 'F8',\n",
       " 'T7',\n",
       " 'C3',\n",
       " 'Cz',\n",
       " 'C4',\n",
       " 'T8',\n",
       " 'P7',\n",
       " 'P3',\n",
       " 'Pz',\n",
       " 'P4',\n",
       " 'P8',\n",
       " 'O1',\n",
       " 'O2']"
      ]
     },
     "execution_count": 4,
     "metadata": {},
     "output_type": "execute_result"
    }
   ],
   "source": [
    "channels = []\n",
    "locs = open(locs_path)\n",
    "for i in locs.read().split('\\t'):\n",
    "    if '\\n' in i:\n",
    "        channels.append(i.split('\\n')[0].strip())\n",
    "channels"
   ]
  },
  {
   "cell_type": "code",
   "execution_count": 5,
   "id": "53faa6a1",
   "metadata": {},
   "outputs": [
    {
     "name": "stdout",
     "output_type": "stream",
     "text": [
      "47\n",
      "50\n"
     ]
    }
   ],
   "source": [
    "print(len(os.listdir(eo_adhd)))\n",
    "print(len(os.listdir(eo_cont)))"
   ]
  },
  {
   "cell_type": "raw",
   "id": "23e5e1c3",
   "metadata": {},
   "source": [
    "first 47 adhd, first 50 control: 97 total\n",
    "y: 0 for control, 1 for adhd"
   ]
  },
  {
   "cell_type": "code",
   "execution_count": 6,
   "id": "2e0a6f21",
   "metadata": {},
   "outputs": [],
   "source": [
    "targets = np.array(([1]*47)+([0]*50))"
   ]
  },
  {
   "cell_type": "code",
   "execution_count": 7,
   "id": "50b6be8a",
   "metadata": {},
   "outputs": [
    {
     "name": "stdout",
     "output_type": "stream",
     "text": [
      "(97,)\n"
     ]
    },
    {
     "data": {
      "text/plain": [
       "array([1, 1, 1, 1, 1, 1, 1, 1, 1, 1, 1, 1, 1, 1, 1, 1, 1, 1, 1, 1, 1, 1,\n",
       "       1, 1, 1, 1, 1, 1, 1, 1, 1, 1, 1, 1, 1, 1, 1, 1, 1, 1, 1, 1, 1, 1,\n",
       "       1, 1, 1, 0, 0, 0, 0, 0, 0, 0, 0, 0, 0, 0, 0, 0, 0, 0, 0, 0, 0, 0,\n",
       "       0, 0, 0, 0, 0, 0, 0, 0, 0, 0, 0, 0, 0, 0, 0, 0, 0, 0, 0, 0, 0, 0,\n",
       "       0, 0, 0, 0, 0, 0, 0, 0, 0])"
      ]
     },
     "execution_count": 7,
     "metadata": {},
     "output_type": "execute_result"
    }
   ],
   "source": [
    "print(targets.shape)\n",
    "targets"
   ]
  },
  {
   "cell_type": "code",
   "execution_count": 8,
   "id": "8c7ae715",
   "metadata": {},
   "outputs": [],
   "source": [
    "data = []\n",
    "for file in os.listdir(eo_adhd):\n",
    "    data.append(loadmat(os.path.join(eo_adhd, file))['EO_Data'])"
   ]
  },
  {
   "cell_type": "code",
   "execution_count": 9,
   "id": "ea49aa3b",
   "metadata": {},
   "outputs": [],
   "source": [
    "for file in os.listdir(eo_cont):\n",
    "    data.append(loadmat(os.path.join(eo_cont, file))['EO_Data'])\n",
    "data = np.array(data)"
   ]
  },
  {
   "cell_type": "code",
   "execution_count": 10,
   "id": "eec0d3a3",
   "metadata": {},
   "outputs": [
    {
     "name": "stdout",
     "output_type": "stream",
     "text": [
      "(97, 46080, 19)\n",
      "19\n",
      "(46080, 19)\n"
     ]
    }
   ],
   "source": [
    "print(data.shape)\n",
    "print(len(data[0][0]))\n",
    "print(data[0].shape)"
   ]
  },
  {
   "cell_type": "code",
   "execution_count": 11,
   "id": "1a924825",
   "metadata": {},
   "outputs": [],
   "source": [
    "np.random.seed(88)"
   ]
  },
  {
   "cell_type": "code",
   "execution_count": 12,
   "id": "e7a06c3e",
   "metadata": {},
   "outputs": [],
   "source": [
    "from sklearn.model_selection import train_test_split\n",
    "from sklearn.preprocessing import RobustScaler"
   ]
  },
  {
   "cell_type": "code",
   "execution_count": 13,
   "id": "4625fad8",
   "metadata": {},
   "outputs": [],
   "source": [
    "X_train_complete, X_test, y_train_complete, y_test = train_test_split(data, targets)\n",
    "\n",
    "X_train, X_valid, y_train, y_valid = train_test_split(X_train_complete, y_train_complete, train_size=0.8)"
   ]
  },
  {
   "cell_type": "code",
   "execution_count": 14,
   "id": "e641bac0",
   "metadata": {},
   "outputs": [
    {
     "name": "stdout",
     "output_type": "stream",
     "text": [
      "(57, 46080, 19) (57,)\n",
      "(25, 46080, 19) (25,)\n",
      "(15, 46080, 19) (15,)\n"
     ]
    }
   ],
   "source": [
    "print(X_train.shape, y_train.shape)\n",
    "print(X_test.shape, y_test.shape)\n",
    "print(X_valid.shape, y_valid.shape)"
   ]
  },
  {
   "cell_type": "code",
   "execution_count": 15,
   "id": "640f52a4",
   "metadata": {},
   "outputs": [],
   "source": [
    "scaler = RobustScaler()\n",
    "X_train = scaler.fit_transform(X_train.reshape(-1, X_train.shape[-1])).reshape(X_train.shape)\n",
    "X_test = scaler.transform(X_test.reshape(-1, X_test.shape[-1])).reshape(X_test.shape)\n",
    "X_valid = scaler.transform(X_valid.reshape(-1, X_valid.shape[-1])).reshape(X_valid.shape)"
   ]
  },
  {
   "cell_type": "code",
   "execution_count": 16,
   "id": "179dc1fb",
   "metadata": {},
   "outputs": [
    {
     "name": "stdout",
     "output_type": "stream",
     "text": [
      "(57, 46080, 19) (57,)\n",
      "(25, 46080, 19) (25,)\n",
      "(15, 46080, 19) (15,)\n"
     ]
    }
   ],
   "source": [
    "print(X_train.shape, y_train.shape)\n",
    "print(X_test.shape, y_test.shape)\n",
    "print(X_valid.shape, y_valid.shape)"
   ]
  },
  {
   "cell_type": "code",
   "execution_count": 17,
   "id": "2f0a045e",
   "metadata": {},
   "outputs": [],
   "source": [
    "model = keras.models.Sequential([\n",
    "    keras.layers.Flatten(input_shape=[46080, 19]),\n",
    "    keras.layers.Dense(300, activation='relu'),\n",
    "    keras.layers.Dense(300, activation='relu'),\n",
    "    keras.layers.Dense(300, activation='relu'),\n",
    "    keras.layers.Dense(100, activation='relu'),\n",
    "    keras.layers.Dense(100, activation='relu'),\n",
    "    keras.layers.Dense(100, activation='relu'),\n",
    "    keras.layers.Dense(50, activation='relu'),\n",
    "    keras.layers.Dense(50, activation='relu'),\n",
    "    keras.layers.Dense(50, activation='relu'),\n",
    "    keras.layers.Dense(10, activation='relu'),\n",
    "    keras.layers.Dense(10, activation='relu'),\n",
    "    keras.layers.Dense(10, activation='relu'),\n",
    "    keras.layers.Dense(1, activation='sigmoid')\n",
    "])"
   ]
  },
  {
   "cell_type": "code",
   "execution_count": 18,
   "id": "62229563",
   "metadata": {},
   "outputs": [
    {
     "name": "stdout",
     "output_type": "stream",
     "text": [
      "Model: \"sequential\"\n",
      "_________________________________________________________________\n",
      "Layer (type)                 Output Shape              Param #   \n",
      "=================================================================\n",
      "flatten (Flatten)            (None, 875520)            0         \n",
      "_________________________________________________________________\n",
      "dense (Dense)                (None, 300)               262656300 \n",
      "_________________________________________________________________\n",
      "dense_1 (Dense)              (None, 300)               90300     \n",
      "_________________________________________________________________\n",
      "dense_2 (Dense)              (None, 300)               90300     \n",
      "_________________________________________________________________\n",
      "dense_3 (Dense)              (None, 100)               30100     \n",
      "_________________________________________________________________\n",
      "dense_4 (Dense)              (None, 100)               10100     \n",
      "_________________________________________________________________\n",
      "dense_5 (Dense)              (None, 100)               10100     \n",
      "_________________________________________________________________\n",
      "dense_6 (Dense)              (None, 50)                5050      \n",
      "_________________________________________________________________\n",
      "dense_7 (Dense)              (None, 50)                2550      \n",
      "_________________________________________________________________\n",
      "dense_8 (Dense)              (None, 50)                2550      \n",
      "_________________________________________________________________\n",
      "dense_9 (Dense)              (None, 10)                510       \n",
      "_________________________________________________________________\n",
      "dense_10 (Dense)             (None, 10)                110       \n",
      "_________________________________________________________________\n",
      "dense_11 (Dense)             (None, 10)                110       \n",
      "_________________________________________________________________\n",
      "dense_12 (Dense)             (None, 1)                 11        \n",
      "=================================================================\n",
      "Total params: 262,898,091\n",
      "Trainable params: 262,898,091\n",
      "Non-trainable params: 0\n",
      "_________________________________________________________________\n"
     ]
    }
   ],
   "source": [
    "model.summary()"
   ]
  },
  {
   "cell_type": "code",
   "execution_count": 19,
   "id": "f1fc674a",
   "metadata": {},
   "outputs": [],
   "source": [
    "model.compile(loss=keras.losses.BinaryCrossentropy(),\n",
    "              optimizer=keras.optimizers.SGD(learning_rate=0.02),\n",
    "              metrics=['accuracy'])"
   ]
  },
  {
   "cell_type": "code",
   "execution_count": 20,
   "id": "955725e6",
   "metadata": {},
   "outputs": [],
   "source": [
    "checkpoint_cb = keras.callbacks.ModelCheckpoint('eeg_mlp.h5', save_best_only=True)\n",
    "earlystop_cb = keras.callbacks.EarlyStopping(patience=15, restore_best_weights=True)"
   ]
  },
  {
   "cell_type": "code",
   "execution_count": null,
   "id": "8740e842",
   "metadata": {},
   "outputs": [],
   "source": [
    "history = model.fit(X_train, y_train, epochs=100,\n",
    "                    validation_data=(X_valid, y_valid),\n",
    "                    callbacks=[checkpoint_cb, earlystop_cb])"
   ]
  }
 ],
 "metadata": {
  "kernelspec": {
   "display_name": "Python 3 (ipykernel)",
   "language": "python",
   "name": "python3"
  },
  "language_info": {
   "codemirror_mode": {
    "name": "ipython",
    "version": 3
   },
   "file_extension": ".py",
   "mimetype": "text/x-python",
   "name": "python",
   "nbconvert_exporter": "python",
   "pygments_lexer": "ipython3",
   "version": "3.9.1"
  }
 },
 "nbformat": 4,
 "nbformat_minor": 5
}
