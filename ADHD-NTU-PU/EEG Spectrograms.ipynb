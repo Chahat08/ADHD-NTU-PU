{
 "cells": [
  {
   "cell_type": "markdown",
   "id": "ee1c0ce2",
   "metadata": {},
   "source": [
    "# EEG SPECTOGRAMS\n",
    "### An automated classification of EEG signals based on spectrogram and CNN for epilepsy diagnosis\n",
    "https://link.springer.com/article/10.1007%2Fs10470-021-01805-2"
   ]
  },
  {
   "cell_type": "code",
   "execution_count": null,
   "id": "0747a34e",
   "metadata": {},
   "outputs": [],
   "source": []
  }
 ],
 "metadata": {
  "kernelspec": {
   "display_name": "Python 3 (ipykernel)",
   "language": "python",
   "name": "python3"
  },
  "language_info": {
   "codemirror_mode": {
    "name": "ipython",
    "version": 3
   },
   "file_extension": ".py",
   "mimetype": "text/x-python",
   "name": "python",
   "nbconvert_exporter": "python",
   "pygments_lexer": "ipython3",
   "version": "3.9.1"
  }
 },
 "nbformat": 4,
 "nbformat_minor": 5
}
